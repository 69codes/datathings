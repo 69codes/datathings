{
 "cells": [
  {
   "cell_type": "code",
   "execution_count": 119,
   "metadata": {},
   "outputs": [
    {
     "name": "stdout",
     "output_type": "stream",
     "text": [
      "25 is not a Prime Number\n"
     ]
    }
   ],
   "source": [
    "#Taiwo Olatunji Yusuf \n",
    "\n",
    "#Python solution\n",
    "\n",
    "#Comuter Science\n",
    "\n",
    "#GitHub - @69codes\n",
    "\n",
    "#Question: \n",
    "#Write a function that takes in a Proth Number and uses Proth's \n",
    "#theorem to determine if said number is prime? \n",
    "\n",
    "\n",
    "#Break down of the question: The function takes in a \"PROTH NUMBER\", and determines if the number is prime, using\n",
    "# Proth's theorem.\n",
    "\n",
    "# The Proth's theorem states that for a number (p) to be Prime, there must be a number \"i\" such that, \"i\" raised to the power\n",
    "# of ((p-1) / 2) then  plus 1, must be diviible by p.\n",
    "\n",
    "#methodology: With deeper research, if a number is a proth prime, there is a 50% chance that any number will work as i. Therefore\n",
    "# we don't need to iterate past the first 10 digits.\n",
    "\n",
    "#The Set back with this method is, when you raise a number to a very high figure, it tends to approximate, making the\n",
    "#result inaccurate, Pyhton has a limit of 32 bits for figures.\n",
    "\n",
    "\n",
    "num = []\n",
    "def IsProthPrime(p):\n",
    "    for i in range(10):\n",
    "        num.append((((i)**((p - 1)/2)) + 1) % p) \n",
    "    if 0 in num:\n",
    "        print(p, \"is a Prime Number\")\n",
    "    else:\n",
    "        print(p, \"is not a Prime Number\")\n",
    "\n",
    "IsProthPrime(25)"
   ]
  },
  {
   "cell_type": "code",
   "execution_count": 107,
   "metadata": {},
   "outputs": [
    {
     "name": "stdout",
     "output_type": "stream",
     "text": [
      "3 is a Prime Number\n"
     ]
    }
   ],
   "source": [
    "IsProthPrime(3)"
   ]
  },
  {
   "cell_type": "code",
   "execution_count": 108,
   "metadata": {},
   "outputs": [
    {
     "name": "stdout",
     "output_type": "stream",
     "text": [
      "5 is a Prime Number\n"
     ]
    }
   ],
   "source": [
    "IsProthPrime(5)"
   ]
  },
  {
   "cell_type": "code",
   "execution_count": 116,
   "metadata": {},
   "outputs": [
    {
     "name": "stdout",
     "output_type": "stream",
     "text": [
      "9 is not a Prime Number\n"
     ]
    }
   ],
   "source": [
    "IsProthPrime(9)"
   ]
  },
  {
   "cell_type": "code",
   "execution_count": 117,
   "metadata": {},
   "outputs": [
    {
     "name": "stdout",
     "output_type": "stream",
     "text": [
      "13 is a Prime Number\n"
     ]
    }
   ],
   "source": [
    "IsProthPrime(13)"
   ]
  },
  {
   "cell_type": "code",
   "execution_count": 120,
   "metadata": {},
   "outputs": [
    {
     "name": "stdout",
     "output_type": "stream",
     "text": [
      "25 is not a Prime Number\n"
     ]
    }
   ],
   "source": [
    "IsProthPrime(25)"
   ]
  },
  {
   "cell_type": "code",
   "execution_count": 121,
   "metadata": {},
   "outputs": [
    {
     "name": "stdout",
     "output_type": "stream",
     "text": [
      "33 is not a Prime Number\n"
     ]
    }
   ],
   "source": [
    "IsProthPrime(33)"
   ]
  },
  {
   "cell_type": "code",
   "execution_count": 122,
   "metadata": {},
   "outputs": [
    {
     "name": "stdout",
     "output_type": "stream",
     "text": [
      "41 is a Prime Number\n"
     ]
    }
   ],
   "source": [
    "IsProthPrime(41)"
   ]
  },
  {
   "cell_type": "code",
   "execution_count": null,
   "metadata": {},
   "outputs": [],
   "source": []
  }
 ],
 "metadata": {
  "kernelspec": {
   "display_name": "Python 3",
   "language": "python",
   "name": "python3"
  },
  "language_info": {
   "codemirror_mode": {
    "name": "ipython",
    "version": 3
   },
   "file_extension": ".py",
   "mimetype": "text/x-python",
   "name": "python",
   "nbconvert_exporter": "python",
   "pygments_lexer": "ipython3",
   "version": "3.7.6"
  }
 },
 "nbformat": 4,
 "nbformat_minor": 4
}
